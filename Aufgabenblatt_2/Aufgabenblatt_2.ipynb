{
 "cells": [
  {
   "cell_type": "markdown",
   "id": "b7e1f7bf",
   "metadata": {},
   "source": [
    "# Aufgabenblatt 2 (André Glatzl)"
   ]
  },
  {
   "cell_type": "markdown",
   "id": "723149f1",
   "metadata": {},
   "source": [
    "### Aufgabe 6"
   ]
  },
  {
   "cell_type": "code",
   "execution_count": 16,
   "id": "321dcb20",
   "metadata": {},
   "outputs": [
    {
     "name": "stdout",
     "output_type": "stream",
     "text": [
      "950400\n"
     ]
    }
   ],
   "source": [
    "# Umwandeln von Tage in Stunden\n",
    "days = 11\n",
    "hours = days*24\n",
    "minutes = hours*60\n",
    "seconds = minutes*60\n",
    "print(seconds)"
   ]
  },
  {
   "cell_type": "markdown",
   "id": "4116a601",
   "metadata": {},
   "source": [
    "### Aufgabe 7"
   ]
  },
  {
   "cell_type": "code",
   "execution_count": 17,
   "id": "a03e2fd8",
   "metadata": {},
   "outputs": [
    {
     "name": "stdout",
     "output_type": "stream",
     "text": [
      "mariannmariannmaria\n"
     ]
    }
   ],
   "source": [
    "# (a)\n",
    "astring = \"annannannannanna\"\n",
    "print(astring.replace(\"anna\",\"maria\"))"
   ]
  },
  {
   "cell_type": "code",
   "execution_count": 18,
   "id": "261c9743",
   "metadata": {},
   "outputs": [
    {
     "name": "stdout",
     "output_type": "stream",
     "text": [
      "TRUE\n"
     ]
    }
   ],
   "source": [
    "# (b)\n",
    "bstring = \"\"+str(19 == (4+7)*3 -14)\n",
    "print(bstring.upper())"
   ]
  },
  {
   "cell_type": "code",
   "execution_count": 19,
   "id": "f8f929d9",
   "metadata": {},
   "outputs": [
    {
     "name": "stdout",
     "output_type": "stream",
     "text": [
      "cxncxncxncxncxnb\n"
     ]
    }
   ],
   "source": [
    "# (c)\n",
    "astring = \"annannannannanna\"\n",
    "print(astring.replace(\"a\",\"b\").replace(\"bn\",\"cx\"))"
   ]
  },
  {
   "cell_type": "code",
   "execution_count": 20,
   "id": "f4e306e0",
   "metadata": {},
   "outputs": [
    {
     "name": "stdout",
     "output_type": "stream",
     "text": [
      "True\n"
     ]
    }
   ],
   "source": [
    "# (d)\n",
    "cstring = \"Peter\"\n",
    "dstring = \"Pferd\"\n",
    "print(cstring.index(\"e\")==dstring.index(\"f\"))"
   ]
  },
  {
   "cell_type": "markdown",
   "id": "e8fe7db8",
   "metadata": {},
   "source": [
    "### Aufgabe 8"
   ]
  },
  {
   "cell_type": "code",
   "execution_count": 21,
   "id": "c85fa484-e570-4ff4-a937-fa94886080ba",
   "metadata": {},
   "outputs": [
    {
     "name": "stdout",
     "output_type": "stream",
     "text": [
      "ANDRÉ GLATZL\n"
     ]
    }
   ],
   "source": [
    "# (a)\n",
    "vorname = \"André\"\n",
    "# (b)\n",
    "nachname = \"Glatzl\"\n",
    "# (c)\n",
    "name = \" \".join([vorname, nachname])\n",
    "# (d)\n",
    "upperName = name.upper()\n",
    "print(upperName)"
   ]
  },
  {
   "cell_type": "markdown",
   "id": "4070632f-7019-4c32-94f0-bb332181c5c1",
   "metadata": {},
   "source": [
    "### Aufgabe 9"
   ]
  },
  {
   "cell_type": "code",
   "execution_count": 22,
   "id": "fc388f31-5165-433c-b13c-915861566fd7",
   "metadata": {},
   "outputs": [
    {
     "name": "stdout",
     "output_type": "stream",
     "text": [
      "3.1415\n"
     ]
    }
   ],
   "source": [
    "# (a)\n",
    "print(float(\"3.1415\"))"
   ]
  },
  {
   "cell_type": "markdown",
   "id": "c1900dbd-8999-4f1f-bacd-302f404124a7",
   "metadata": {},
   "source": [
    "Es wird die Dezimalzahl **3.1415** angezeigt."
   ]
  },
  {
   "cell_type": "code",
   "execution_count": 23,
   "id": "b36b2397-dafb-45ec-a203-2aace5d2e042",
   "metadata": {},
   "outputs": [
    {
     "ename": "TypeError",
     "evalue": "can only concatenate str (not \"int\") to str",
     "output_type": "error",
     "traceback": [
      "\u001b[0;31m---------------------------------------------------------------------------\u001b[0m",
      "\u001b[0;31mTypeError\u001b[0m                                 Traceback (most recent call last)",
      "\u001b[0;32m/tmp/ipykernel_896783/2822611104.py\u001b[0m in \u001b[0;36m<module>\u001b[0;34m\u001b[0m\n\u001b[1;32m      1\u001b[0m \u001b[0;31m# (b)\u001b[0m\u001b[0;34m\u001b[0m\u001b[0;34m\u001b[0m\u001b[0;34m\u001b[0m\u001b[0m\n\u001b[1;32m      2\u001b[0m \u001b[0mtest\u001b[0m \u001b[0;34m=\u001b[0m \u001b[0;36m100\u001b[0m\u001b[0;34m\u001b[0m\u001b[0;34m\u001b[0m\u001b[0m\n\u001b[0;32m----> 3\u001b[0;31m \u001b[0mtest\u001b[0m \u001b[0;34m=\u001b[0m \u001b[0;34m\"\"\u001b[0m \u001b[0;34m+\u001b[0m \u001b[0mtest\u001b[0m\u001b[0;34m\u001b[0m\u001b[0;34m\u001b[0m\u001b[0m\n\u001b[0m\u001b[1;32m      4\u001b[0m \u001b[0mprint\u001b[0m\u001b[0;34m(\u001b[0m\u001b[0mtest\u001b[0m \u001b[0;34m*\u001b[0m\u001b[0;36m2\u001b[0m\u001b[0;34m)\u001b[0m\u001b[0;34m\u001b[0m\u001b[0;34m\u001b[0m\u001b[0m\n",
      "\u001b[0;31mTypeError\u001b[0m: can only concatenate str (not \"int\") to str"
     ]
    }
   ],
   "source": [
    "# (b)\n",
    "test = 100\n",
    "test = \"\" + test\n",
    "print(test *2)"
   ]
  },
  {
   "cell_type": "markdown",
   "id": "1631a27c-6067-44a8-81ef-47388fc982b3",
   "metadata": {},
   "source": [
    "Es gibt eine Fehlermeldung bei test = \"\" + test, da man String-Variablen nicht mit Integer-Variablen konkatenieren darf."
   ]
  },
  {
   "cell_type": "code",
   "execution_count": 27,
   "id": "e702b3c3-3728-40b9-93fe-55867506750d",
   "metadata": {},
   "outputs": [
    {
     "name": "stdout",
     "output_type": "stream",
     "text": [
      "2187\n"
     ]
    }
   ],
   "source": [
    "# (c)\n",
    "xyz = \"7\"\n",
    "pot = 3**int(xyz)\n",
    "print(pot)"
   ]
  },
  {
   "cell_type": "markdown",
   "id": "a3eb5e03-82c7-429d-ab39-aa555024f95e",
   "metadata": {},
   "source": [
    "Es wird die Integerzahl **2187** angezeigt. "
   ]
  },
  {
   "cell_type": "code",
   "execution_count": 25,
   "id": "cd35641b-dad5-4242-b290-f113999d8fee",
   "metadata": {},
   "outputs": [
    {
     "name": "stdout",
     "output_type": "stream",
     "text": [
      "5500\n"
     ]
    }
   ],
   "source": [
    "# (d)\n",
    "test2 = \"100\"\n",
    "test2 = \"1\" + test2\n",
    "print(int(test2)*5)"
   ]
  },
  {
   "cell_type": "markdown",
   "id": "74310efe-6869-4190-9d41-7e84dc986021",
   "metadata": {},
   "source": [
    "Es wird die Integerzahl **5500** angezeigt."
   ]
  },
  {
   "cell_type": "markdown",
   "id": "9e9be4f5-325e-4942-a65e-3122d8a61485",
   "metadata": {},
   "source": [
    "### Aufgabe 10"
   ]
  },
  {
   "cell_type": "code",
   "execution_count": 26,
   "id": "e81cfb1e-6b09-4455-96c7-10e8411c388a",
   "metadata": {},
   "outputs": [
    {
     "name": "stdin",
     "output_type": "stream",
     "text": [
      "s:  ljljl\n",
      "z:  l\n"
     ]
    },
    {
     "name": "stdout",
     "output_type": "stream",
     "text": [
      "Teilstrings: \n",
      "['', 'j', 'j', '']\n"
     ]
    }
   ],
   "source": [
    "s = input(\"s: \")\n",
    "z = input(\"z: \")\n",
    "if len(z) != 1:\n",
    "    raise Exception(\"Die Variable z muss/darf nur eine Ziffer haben\")\n",
    "print(\"Teilstrings: \")\n",
    "print(s.split(z))"
   ]
  }
 ],
 "metadata": {
  "kernelspec": {
   "display_name": "Python 3 (ipykernel)",
   "language": "python",
   "name": "python3"
  },
  "language_info": {
   "codemirror_mode": {
    "name": "ipython",
    "version": 3
   },
   "file_extension": ".py",
   "mimetype": "text/x-python",
   "name": "python",
   "nbconvert_exporter": "python",
   "pygments_lexer": "ipython3",
   "version": "3.8.10"
  }
 },
 "nbformat": 4,
 "nbformat_minor": 5
}
