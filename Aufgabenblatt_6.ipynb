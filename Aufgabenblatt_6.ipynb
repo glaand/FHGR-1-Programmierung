{
 "cells": [
  {
   "cell_type": "markdown",
   "id": "490c3e20-147d-4989-bed9-6a7d8f902b0f",
   "metadata": {},
   "source": [
    "# Aufgabenblatt 6"
   ]
  },
  {
   "cell_type": "markdown",
   "id": "e672ca8b-96be-47d9-96bc-baa8729320c7",
   "metadata": {},
   "source": [
    "## Aufgabe 26"
   ]
  },
  {
   "cell_type": "code",
   "execution_count": 16,
   "id": "d69c6f7d-9ca9-4640-8867-d46297843e9e",
   "metadata": {},
   "outputs": [
    {
     "name": "stdin",
     "output_type": "stream",
     "text": [
      "Note von Alex:  5.0\n",
      "Note von André:  5.25\n",
      "Note von Rafael:  5.5\n",
      "Note von Raphael:  5.75\n",
      "Note von Benito:  6.0\n"
     ]
    },
    {
     "name": "stdout",
     "output_type": "stream",
     "text": [
      "['Alex', 'André', 'Rafael', 'Raphael', 'Benito']\n",
      "[5.0, 5.25, 5.5, 5.75, 6.0]\n"
     ]
    }
   ],
   "source": [
    "def aufgabe26():\n",
    "    students = [\"Alex\", \"André\", \"Rafael\", \"Raphael\", \"Benito\"]\n",
    "    pointslist = []\n",
    "\n",
    "    try:\n",
    "        for i in range(len(students)):\n",
    "            note = float(input(\"Note von %s: \" % (students[i])))\n",
    "            if note < 1 or note > 6:\n",
    "                raise Exception(\"Die Zahl muss zwischen 1 und 6 sein.\")\n",
    "            pointslist.insert(i, note)\n",
    "    except:\n",
    "        raise Exception(\"Keine gültige Note.\")\n",
    "    else:\n",
    "        print(students)\n",
    "        print(pointslist)\n",
    "aufgabe26()"
   ]
  },
  {
   "cell_type": "markdown",
   "id": "bd6b0a7c-a8ff-4cdd-82ab-32549d9383f6",
   "metadata": {},
   "source": [
    "## Aufgabe 27"
   ]
  },
  {
   "cell_type": "code",
   "execution_count": 17,
   "id": "4c2bf093-8d40-482d-bc82-4df269395038",
   "metadata": {},
   "outputs": [
    {
     "name": "stdout",
     "output_type": "stream",
     "text": [
      "30533488\n"
     ]
    }
   ],
   "source": [
    "def aufgabe27():\n",
    "    from functools import reduce\n",
    "    name = \"André\"\n",
    "    name_decimals = list(map(lambda x: ord(x), name))\n",
    "    multiplied = reduce(lambda x,y: x*y, name_decimals)\n",
    "    divided = multiplied / sum(name_decimals)\n",
    "    print(int(divided))\n",
    "aufgabe27()"
   ]
  },
  {
   "cell_type": "markdown",
   "id": "213102c0-775e-4f86-8493-84ca26e422c1",
   "metadata": {},
   "source": [
    "## Aufgabe 28"
   ]
  },
  {
   "cell_type": "code",
   "execution_count": 19,
   "id": "535ffc66-74ef-43e7-b010-5f6f889154dd",
   "metadata": {},
   "outputs": [
    {
     "name": "stdin",
     "output_type": "stream",
     "text": [
      "User ID:  AAA12345\n"
     ]
    },
    {
     "name": "stdout",
     "output_type": "stream",
     "text": [
      "User ID entspricht Validierung (a)\n"
     ]
    }
   ],
   "source": [
    "def aufgabe28():\n",
    "    import re\n",
    "    userId = input(\"User ID: \")\n",
    "    a_fulfills = re.match(\"[A-Z]{1,3}[0-9]{5}\", userId)\n",
    "    b_fulfills = re.match(\"[A-Z]{2}[0-9]{1}\", userId) \n",
    "    \n",
    "    if a_fulfills:\n",
    "        print(\"User ID entspricht Validierung (a)\")\n",
    "    elif b_fulfills:\n",
    "        print(\"User ID entspricht Validierung (b)\")\n",
    "    else:\n",
    "        print(\"User ID hat keine Validierung\")\n",
    "aufgabe28()"
   ]
  },
  {
   "cell_type": "markdown",
   "id": "26a891a6-33bb-4dd1-bffa-5a1a14b40c96",
   "metadata": {},
   "source": [
    "## Aufgabe 29"
   ]
  },
  {
   "cell_type": "code",
   "execution_count": 20,
   "id": "4c795145-a242-45da-bbba-24cf47b7f247",
   "metadata": {},
   "outputs": [
    {
     "name": "stdout",
     "output_type": "stream",
     "text": [
      "(a) Die beiden Dictionaries sind nicht gleich\n",
      "(b) [4, 5]\n"
     ]
    }
   ],
   "source": [
    "def aufgabe29():\n",
    "    D1 = {1: \"a\", 2: \"b\", 3: \"c\", 4: \"d\"}\n",
    "    D2 = {1: \"a\", 2: \"b\", 3: \"c\", 4: \"f\", 5: \"d\"}\n",
    "    # (a)\n",
    "    if D1 == D2:\n",
    "        print(\"(a) Die beiden Dictionaries sind gleich\")\n",
    "    else:\n",
    "        print(\"(a) Die beiden Dictionaries sind nicht gleich\")\n",
    "        \n",
    "    # (b)\n",
    "    if D1 != D2:\n",
    "        U = []\n",
    "        D1_keys = list(D1.keys())\n",
    "        D2_keys = list(D2.keys())\n",
    "        for i in range(max(len(D1_keys), len(D2_keys))):\n",
    "            D1_key = None\n",
    "            D2_key = None\n",
    "            if i < len(D1_keys):\n",
    "                D1_key = D1_keys[i]\n",
    "            if i < len(D2_keys):\n",
    "                D2_key = D2_keys[i]\n",
    "                \n",
    "            if D1_key and D2_key:\n",
    "                if D1_key != D2_key:\n",
    "                    U.append(D1_key)\n",
    "                    U.append(D2_key)\n",
    "                if D1[D1_key] != D2[D2_key]:\n",
    "                    U.append(D1_key)\n",
    "            else:\n",
    "                if D1_key:\n",
    "                    U.append(D1_key)\n",
    "                elif D2_key:\n",
    "                    U.append(D2_key)\n",
    "        print(\"(b)\", end=\" \")\n",
    "        print(U)\n",
    "    else:\n",
    "        print(\"(b) Die beiden Dictionaries unterscheiden sich nicht\")\n",
    "aufgabe29()"
   ]
  },
  {
   "cell_type": "code",
   "execution_count": 37,
   "id": "4cb3a3a3-3fe1-404f-a064-64e45c598bd2",
   "metadata": {},
   "outputs": [
    {
     "name": "stdout",
     "output_type": "stream",
     "text": [
      "(a) Die beiden Dictionaries sind nicht gleich\n",
      "(b) [True, True, True, False, False]\n"
     ]
    }
   ],
   "source": [
    "def aufgabe29():\n",
    "    D1 = {1: \"a\", 2: \"b\", 3: \"c\", 4: \"d\"}\n",
    "    D2 = {1: \"a\", 2: \"b\", 3: \"c\", 4: \"f\", 5: \"d\"}\n",
    "    # (a)\n",
    "    if D1 == D2:\n",
    "        print(\"(a) Die beiden Dictionaries sind gleich\")\n",
    "    else:\n",
    "        print(\"(a) Die beiden Dictionaries sind nicht gleich\")\n",
    "        \n",
    "    # (b)\n",
    "    if D1 != D2:\n",
    "        U = [key in list(D1.keys()) and key in list(D2.keys()) and D1[key] == D2[key] for key in list(dict.fromkeys(list(D1.keys()) + list(D2.keys())))]\n",
    "        print(\"(b)\", end=\" \")\n",
    "        print(U)\n",
    "    else:\n",
    "        print(\"(b) Die beiden Dictionaries unterscheiden sich nicht\")\n",
    "aufgabe29()"
   ]
  },
  {
   "cell_type": "markdown",
   "id": "8b11fdae-f33f-48de-b296-5a4ab030553d",
   "metadata": {},
   "source": [
    "## Aufgabe 30"
   ]
  },
  {
   "cell_type": "code",
   "execution_count": 22,
   "id": "45ddf70d-ea38-4df1-aa6c-f0cc2eeec646",
   "metadata": {},
   "outputs": [],
   "source": [
    "from copy import deepcopy\n",
    "def bubbleSort(arr):\n",
    "    warSortiert = False\n",
    "    while warSortiert == False:\n",
    "        warSortiert = True\n",
    "        for i in range(len(arr)-1):\n",
    "            if arr[i] > arr[i+1]:\n",
    "                warSortiert = False\n",
    "                h = arr[i]\n",
    "                arr[i] = arr[i+1]\n",
    "                arr[i+1] = h\n",
    "    return arr"
   ]
  },
  {
   "cell_type": "code",
   "execution_count": 23,
   "id": "8673ee23-0ac2-4983-91e5-e779ee8ce7f6",
   "metadata": {},
   "outputs": [
    {
     "name": "stdout",
     "output_type": "stream",
     "text": [
      "Mean Squared Error: 183.627500\n"
     ]
    }
   ],
   "source": [
    "L = [9.1,2.4,1.2,32.6,1.3,4.5,6.4,8.9]\n",
    "S = bubbleSort(deepcopy(L))\n",
    "N = len(S)\n",
    "\n",
    "mse = 0\n",
    "\n",
    "for i in range(N):\n",
    "    mse += (L[i] - S[i])**2\n",
    "    \n",
    "mse = (1/N) * mse\n",
    "print(\"Mean Squared Error: %f\" % mse)"
   ]
  },
  {
   "cell_type": "code",
   "execution_count": null,
   "id": "28940622-8332-4d08-8def-7f8aac1e0ddc",
   "metadata": {},
   "outputs": [],
   "source": []
  }
 ],
 "metadata": {
  "kernelspec": {
   "display_name": "Python 3 (ipykernel)",
   "language": "python",
   "name": "python3"
  },
  "language_info": {
   "codemirror_mode": {
    "name": "ipython",
    "version": 3
   },
   "file_extension": ".py",
   "mimetype": "text/x-python",
   "name": "python",
   "nbconvert_exporter": "python",
   "pygments_lexer": "ipython3",
   "version": "3.8.10"
  }
 },
 "nbformat": 4,
 "nbformat_minor": 5
}
