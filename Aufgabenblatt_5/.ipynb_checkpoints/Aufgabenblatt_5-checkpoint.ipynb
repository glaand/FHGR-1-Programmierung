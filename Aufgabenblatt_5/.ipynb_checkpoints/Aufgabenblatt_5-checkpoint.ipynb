{
 "cells": [
  {
   "cell_type": "markdown",
   "id": "dea1c41f-c47a-4300-801e-f3df9ed8d017",
   "metadata": {},
   "source": [
    "# Aufgabenblatt 5"
   ]
  },
  {
   "cell_type": "markdown",
   "id": "b5c0fb5f-2b02-4770-8629-a0d4073dd3e7",
   "metadata": {},
   "source": [
    "## Aufgabe 21"
   ]
  },
  {
   "cell_type": "code",
   "execution_count": 101,
   "id": "dc23f0ed-c9bf-4b86-951a-900ae919c2b4",
   "metadata": {},
   "outputs": [
    {
     "name": "stdout",
     "output_type": "stream",
     "text": [
      "[1, 2, 3, 4, 5, 6, 7, 8, 9, 10, 11, 12, 13, 14, 15]\n"
     ]
    }
   ],
   "source": [
    "liste1 = [1,2,3,4,5,6,7,8,9]\n",
    "liste2 = [10,11,12,13,14,15]\n",
    "liste3 = liste1 + liste2\n",
    "print(liste3)"
   ]
  },
  {
   "cell_type": "markdown",
   "id": "5773cc27-3bcb-434c-bc61-5a8299518632",
   "metadata": {},
   "source": [
    "## Aufgabe 22"
   ]
  },
  {
   "cell_type": "code",
   "execution_count": 100,
   "id": "b25be069-5640-47aa-80f4-11d34b5c915c",
   "metadata": {},
   "outputs": [
    {
     "name": "stdout",
     "output_type": "stream",
     "text": [
      "[99, 88, 77, 66, 55, 44, 33, 22, 11]\n"
     ]
    }
   ],
   "source": [
    "liste = [11,22,33,44,55,66,77,88,99]\n",
    "listeReversed = []\n",
    "for i in range(len(liste)-1, -1, -1):\n",
    "    listeReversed.append(liste[i])\n",
    "print(listeReversed)"
   ]
  },
  {
   "cell_type": "markdown",
   "id": "752f616c-0445-496f-bba9-ca86b036554a",
   "metadata": {},
   "source": [
    "## Aufgabe 23"
   ]
  },
  {
   "cell_type": "code",
   "execution_count": 99,
   "id": "00da3f65-9eca-4846-99ad-f942f1093557",
   "metadata": {},
   "outputs": [
    {
     "name": "stdout",
     "output_type": "stream",
     "text": [
      "(a) -> False\n",
      "(b)\n",
      "Sind identisch bei index: 1\n",
      "Sind identisch bei index: 2\n",
      "Sind identisch bei index: 3\n",
      "[False, True, True, True, False, False]\n"
     ]
    }
   ],
   "source": [
    "listeA = [1,3,11,23,4,5]\n",
    "listeB = [4,3,11,23,7,8]\n",
    "\n",
    "# (a)\n",
    "print(\"(a) -> \" + str(listeA == listeB))\n",
    "# (b)\n",
    "print(\"(b)\")\n",
    "listeBool = []\n",
    "for i in range(max(len(listeA), len(listeB))):\n",
    "    wertA = listeA[i]\n",
    "    wertB = listeB[i]\n",
    "    if wertA == wertB:\n",
    "        print(\"Sind identisch bei index: %d\" % (i))\n",
    "        listeBool.insert(i, True)\n",
    "    else:\n",
    "        listeBool.insert(i, False)\n",
    "print(listeBool)"
   ]
  },
  {
   "cell_type": "code",
   "execution_count": 98,
   "id": "f63dc047-ca57-4c27-9d8a-46fda8eb5a6f",
   "metadata": {},
   "outputs": [
    {
     "name": "stdout",
     "output_type": "stream",
     "text": [
      "(c) -> True\n"
     ]
    }
   ],
   "source": [
    "# (c)\n",
    "print(\"(c) -> \" + str(len(listeA) == len(listeB)))"
   ]
  },
  {
   "cell_type": "code",
   "execution_count": 97,
   "id": "36666414-e75d-4706-95ea-4bf76615e103",
   "metadata": {},
   "outputs": [
    {
     "name": "stdout",
     "output_type": "stream",
     "text": [
      "[1, 3, 3, 4, 4, 5, 7, 8, 11, 11, 23, 23]\n"
     ]
    }
   ],
   "source": [
    "# (d)\n",
    "def bubbleSort(arr):\n",
    "    warSortiert = False\n",
    "    while warSortiert == False:\n",
    "        warSortiert = True\n",
    "        for i in range(len(arr)-1):\n",
    "            if arr[i] > arr[i+1]:\n",
    "                warSortiert = False\n",
    "                h = arr[i]\n",
    "                arr[i] = arr[i+1]\n",
    "                arr[i+1] = h\n",
    "    return arr\n",
    "                \n",
    "sortedList = bubbleSort(listeA + listeB)\n",
    "print(sortedList)"
   ]
  },
  {
   "cell_type": "markdown",
   "id": "a5d44c6e-100f-47e1-a245-700201f57d71",
   "metadata": {},
   "source": [
    "## Aufgabe 24"
   ]
  },
  {
   "cell_type": "code",
   "execution_count": 96,
   "id": "63d5ef63-e793-4c47-8628-646c8850b654",
   "metadata": {},
   "outputs": [
    {
     "name": "stdin",
     "output_type": "stream",
     "text": [
      "Zahl:  100\n"
     ]
    },
    {
     "name": "stdout",
     "output_type": "stream",
     "text": [
      "[32, 183, 216, 390, 406, 515, 659, 740, 854, 907, 1052, 1151, 1233, 1385, 1473, 1598, 1685, 1728, 1818, 1955, 2039, 2175, 2294, 2332, 2446, 2523, 2606, 2751, 2871, 2975, 3068, 3156, 3299, 3363, 3424, 3567, 3620, 3755, 3855, 3996, 4097, 4176, 4246, 4356, 4458, 4512, 4686, 4762, 4879, 4925, 5041, 5120, 5249, 5327, 5459, 5591, 5610, 5715, 5890, 5946, 6074, 6175, 6299, 6389, 6485, 6528, 6688, 6710, 6883, 6975, 7085, 7156, 7290, 7352, 7476, 7530, 7653, 7796, 7843, 7937, 8002, 8169, 8275, 8384, 8492, 8568, 8645, 8763, 8808, 8975, 9100, 9193, 9272, 9362, 9427, 9600, 9633, 9701, 9863, 9987]\n"
     ]
    }
   ],
   "source": [
    "import random\n",
    "\n",
    "try:\n",
    "    einZahl = int(input(\"Zahl: \"))\n",
    "except:\n",
    "    raise Exception(\"Keine gültige Zahl\")\n",
    "\n",
    "genList = [] \n",
    "for i in range(einZahl):\n",
    "    leftBoundary = 1+(100*(i+1)-100)\n",
    "    rightBoundary = 100+(100*(i+1)-100)\n",
    "    genList.insert(i, random.randint(leftBoundary, rightBoundary))\n",
    "print(genList)"
   ]
  },
  {
   "cell_type": "markdown",
   "id": "71c3f576-2a25-44c8-9ca6-6c8880e2088b",
   "metadata": {},
   "source": [
    "## Aufgabe 25"
   ]
  },
  {
   "cell_type": "code",
   "execution_count": 95,
   "id": "1f2805d2-4b78-43df-9390-b5a53ecdf972",
   "metadata": {},
   "outputs": [],
   "source": [
    "import numpy as np\n",
    "\n",
    "def getRow(x):\n",
    "    global arr\n",
    "    return arr[x]\n",
    "\n",
    "def getColumn(y):\n",
    "    global arr\n",
    "    return list(map(lambda i: i[y], arr))\n",
    "\n",
    "def getBox(x, y):\n",
    "    global arr\n",
    "    box_start_x = (x // 3)*3\n",
    "    box_start_y = (y // 3)*3\n",
    "    arr = np.array(arr)  \n",
    "    boxArr = arr[box_start_x:box_start_x+3,box_start_y:box_start_y+3]\n",
    "    return boxArr.flatten().tolist()\n",
    "\n",
    "def pointer(x, y):\n",
    "    global arr\n",
    "    # cell value, row-values, column-values, box-values\n",
    "    row = getRow(x)\n",
    "    column = getColumn(y)\n",
    "    box = getBox(x, y)\n",
    "\n",
    "    return (arr[x][y], row, column, box)\n",
    "\n",
    "def checkValidity(val, lst):\n",
    "    for i in range(0,9):\n",
    "        if lst[i] == val:\n",
    "            return False\n",
    "    return True\n",
    "\n",
    "def possible(tryValue, row, column, box):\n",
    "    return checkValidity(tryValue, row) and checkValidity(tryValue, column) and checkValidity(tryValue, box)\n",
    "\n",
    "def solve():\n",
    "    global arr\n",
    "    for x in range(9):\n",
    "        for y in range(9):\n",
    "            value, row, column, box = pointer(x, y)\n",
    "            if value < 1:\n",
    "                for tryValue in range(1,10):\n",
    "                    if possible(tryValue, row, column, box):\n",
    "                        arr[x][y] = tryValue\n",
    "                        solve()\n",
    "                        arr[x][y] = 0\n",
    "                return\n",
    "    \n",
    "    print(np.matrix(arr))\n",
    "    return\n"
   ]
  },
  {
   "cell_type": "code",
   "execution_count": 94,
   "id": "708db7da-4462-4a61-a2fd-884cab38b669",
   "metadata": {},
   "outputs": [
    {
     "name": "stdout",
     "output_type": "stream",
     "text": [
      "[[5 3 4 6 7 8 9 1 2]\n",
      " [6 7 2 1 9 5 3 4 8]\n",
      " [1 9 8 3 4 2 5 6 7]\n",
      " [8 5 9 7 6 1 4 2 3]\n",
      " [4 2 6 8 5 3 7 9 1]\n",
      " [7 1 3 9 2 4 8 5 6]\n",
      " [9 6 1 5 3 7 2 8 4]\n",
      " [2 8 7 4 1 9 6 3 5]\n",
      " [3 4 5 2 8 6 1 7 9]]\n"
     ]
    }
   ],
   "source": [
    "arr = [\n",
    "    [5,3,0,0,7,0,0,0,0],\n",
    "    [6,0,0,1,9,5,0,0,0],\n",
    "    [0,9,8,0,0,0,0,6,0],\n",
    "    [8,0,0,0,6,0,0,0,3],\n",
    "    [4,0,0,8,0,3,0,0,1],\n",
    "    [7,0,0,0,2,0,0,0,6],\n",
    "    [0,6,0,0,0,0,2,8,0],\n",
    "    [0,0,0,4,1,9,0,0,5],\n",
    "    [0,0,0,0,8,0,0,7,9]\n",
    "]\n",
    "solved = solve()"
   ]
  },
  {
   "cell_type": "code",
   "execution_count": null,
   "id": "99faeacf-7df4-499e-9dad-4df70385f684",
   "metadata": {},
   "outputs": [],
   "source": []
  }
 ],
 "metadata": {
  "kernelspec": {
   "display_name": "Python 3 (ipykernel)",
   "language": "python",
   "name": "python3"
  },
  "language_info": {
   "codemirror_mode": {
    "name": "ipython",
    "version": 3
   },
   "file_extension": ".py",
   "mimetype": "text/x-python",
   "name": "python",
   "nbconvert_exporter": "python",
   "pygments_lexer": "ipython3",
   "version": "3.8.10"
  }
 },
 "nbformat": 4,
 "nbformat_minor": 5
}
