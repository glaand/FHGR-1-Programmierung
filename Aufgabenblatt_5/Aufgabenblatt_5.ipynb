{
 "cells": [
  {
   "cell_type": "markdown",
   "id": "dea1c41f-c47a-4300-801e-f3df9ed8d017",
   "metadata": {},
   "source": [
    "# Aufgabenblatt 5"
   ]
  },
  {
   "cell_type": "markdown",
   "id": "b5c0fb5f-2b02-4770-8629-a0d4073dd3e7",
   "metadata": {},
   "source": [
    "## Aufgabe 21"
   ]
  },
  {
   "cell_type": "code",
   "execution_count": 1,
   "id": "dc23f0ed-c9bf-4b86-951a-900ae919c2b4",
   "metadata": {},
   "outputs": [
    {
     "name": "stdout",
     "output_type": "stream",
     "text": [
      "[1, 2, 3, 4, 5, 6, 7, 8, 9, 10, 11, 12, 13, 14, 15]\n"
     ]
    }
   ],
   "source": [
    "liste1 = [1,2,3,4,5,6,7,8,9]\n",
    "liste2 = [10,11,12,13,14,15]\n",
    "liste3 = liste1 + liste2\n",
    "print(liste3)"
   ]
  },
  {
   "cell_type": "markdown",
   "id": "5773cc27-3bcb-434c-bc61-5a8299518632",
   "metadata": {},
   "source": [
    "## Aufgabe 22"
   ]
  },
  {
   "cell_type": "code",
   "execution_count": 5,
   "id": "b25be069-5640-47aa-80f4-11d34b5c915c",
   "metadata": {},
   "outputs": [
    {
     "name": "stdout",
     "output_type": "stream",
     "text": [
      "[99, 88, 77, 66, 55, 44, 33, 22, 11]\n"
     ]
    }
   ],
   "source": [
    "liste = [11,22,33,44,55,66,77,88,99]\n",
    "listeReversed = []\n",
    "for i in range(len(liste)-1, -1, -1):\n",
    "    listeReversed.append(liste[i])\n",
    "print(listeReversed)"
   ]
  },
  {
   "cell_type": "markdown",
   "id": "752f616c-0445-496f-bba9-ca86b036554a",
   "metadata": {},
   "source": [
    "## Aufgabe 23"
   ]
  },
  {
   "cell_type": "code",
   "execution_count": 18,
   "id": "00da3f65-9eca-4846-99ad-f942f1093557",
   "metadata": {},
   "outputs": [
    {
     "name": "stdout",
     "output_type": "stream",
     "text": [
      "(a) -> False\n",
      "(b)\n",
      "Sind identisch bei index: 1\n",
      "Sind identisch bei index: 2\n",
      "Sind identisch bei index: 3\n",
      "[False, True, True, True, False, False]\n"
     ]
    }
   ],
   "source": [
    "listeA = [1,3,11,23,4,5]\n",
    "listeB = [4,3,11,23,7,8]\n",
    "\n",
    "# (a)\n",
    "print(\"(a) -> \" + str(listeA == listeB))\n",
    "# (b)\n",
    "print(\"(b)\")\n",
    "listeBool = []\n",
    "for i in range(max(len(listeA), len(listeB))):\n",
    "    wertA = listeA[i]\n",
    "    wertB = listeB[i]\n",
    "    if wertA == wertB:\n",
    "        print(\"Sind identisch bei index: %d\" % (i))\n",
    "        listeBool.insert(i, True)\n",
    "    else:\n",
    "        listeBool.insert(i, False)\n",
    "print(listeBool)"
   ]
  },
  {
   "cell_type": "code",
   "execution_count": 19,
   "id": "f63dc047-ca57-4c27-9d8a-46fda8eb5a6f",
   "metadata": {},
   "outputs": [
    {
     "name": "stdout",
     "output_type": "stream",
     "text": [
      "(c) -> True\n"
     ]
    }
   ],
   "source": [
    "# (c)\n",
    "print(\"(c) -> \" + str(len(listeA) == len(listeB)))"
   ]
  },
  {
   "cell_type": "code",
   "execution_count": 52,
   "id": "36666414-e75d-4706-95ea-4bf76615e103",
   "metadata": {},
   "outputs": [
    {
     "name": "stdout",
     "output_type": "stream",
     "text": [
      "[1, 3, 3, 4, 4, 5, 7, 8, 11, 11, 23, 23]\n"
     ]
    }
   ],
   "source": [
    "# (d)\n",
    "def bubbleSort(arr):\n",
    "    warSortiert = False\n",
    "    while warSortiert == False:\n",
    "        warSortiert = True\n",
    "        for i in range(len(arr)-1):\n",
    "            if arr[i] > arr[i+1]:\n",
    "                warSortiert = False\n",
    "                h = arr[i]\n",
    "                arr[i] = arr[i+1]\n",
    "                arr[i+1] = h\n",
    "    return arr\n",
    "                \n",
    "sortedList = bubbleSort(listeA + listeB)\n",
    "print(sortedList)"
   ]
  },
  {
   "cell_type": "code",
   "execution_count": null,
   "id": "723d9b4c-0c34-4c51-be71-a6b60e580af0",
   "metadata": {},
   "outputs": [],
   "source": []
  },
  {
   "cell_type": "markdown",
   "id": "a5d44c6e-100f-47e1-a245-700201f57d71",
   "metadata": {},
   "source": [
    "## Aufgabe 24"
   ]
  },
  {
   "cell_type": "code",
   "execution_count": 38,
   "id": "63d5ef63-e793-4c47-8628-646c8850b654",
   "metadata": {},
   "outputs": [
    {
     "name": "stdin",
     "output_type": "stream",
     "text": [
      "Zahl:  10\n"
     ]
    },
    {
     "name": "stdout",
     "output_type": "stream",
     "text": [
      "[54, 183, 209, 312, 411, 511, 603, 767, 863, 926]\n"
     ]
    }
   ],
   "source": [
    "import random\n",
    "\n",
    "try:\n",
    "    einZahl = int(input(\"Zahl: \"))\n",
    "except:\n",
    "    raise Exception(\"Keine gültige Zahl\")\n",
    "\n",
    "genList = [] \n",
    "for i in range(einZahl):\n",
    "    leftBoundary = 1+(100*(i+1)-100)\n",
    "    rightBoundary = 100+(100*(i+1)-100)\n",
    "    genList.insert(i, random.randint(leftBoundary, rightBoundary))\n",
    "print(genList)"
   ]
  },
  {
   "cell_type": "markdown",
   "id": "71c3f576-2a25-44c8-9ca6-6c8880e2088b",
   "metadata": {},
   "source": [
    "## Aufgabe 25"
   ]
  },
  {
   "cell_type": "code",
   "execution_count": 47,
   "id": "1f2805d2-4b78-43df-9390-b5a53ecdf972",
   "metadata": {},
   "outputs": [
    {
     "name": "stdout",
     "output_type": "stream",
     "text": [
      "[[0, 0, 0, 0, 0, 0, 5, 3, 7], [0, 0, 0, 0, 1, 0, 6, 9, 5], [0, 0, 0, 0, 0, 0, 9, 6, 8], [0, 0, 0, 3, 0, 0, 0, 8, 6], [0, 1, 0, 0, 0, 0, 3, 4, 8], [0, 0, 0, 0, 0, 2, 6, 0, 7], [0, 0, 0, 2, 0, 0, 0, 6, 8], [0, 0, 0, 1, 0, 5, 0, 4, 9], [0, 0, 0, 0, 0, 0, 8, 7, 9]]\n",
      "[[0], [0], [0], [0], [8], [0], [0], [7], [9], [0], [0], [0], [4], [1], [9], [0], [0], [5], [0], [6], [0], [0], [0], [0], [2], [8], [0], [7], [0], [0], [0], [2], [0], [0], [0], [6], [4], [0], [0], [8], [0], [3], [0], [0], [1], [8], [0], [0], [0], [6], [0], [0], [0], [3], [0], [9], [8], [0], [0], [0], [0], [6], [0], [6], [0], [0], [1], [9], [5], [0], [0], [0], [5], [3], [0], [0], [7], [0], [0], [0], [0]]\n",
      "[[8], [0], [0], [0], [9], [7], [0], [8], [0], [0], [0], [0], [9], [5], [0], [0], [1], [4], [0], [0], [0], [0], [0], [8], [2], [0], [0], [6], [0], [0], [6], [0], [0], [2], [0], [0], [7], [0], [3], [1], [0], [0], [0], [8], [0], [4], [0], [0], [3], [0], [0], [6], [0], [0], [8], [0], [0], [6], [0], [0], [0], [9], [0], [0], [5], [0], [0], [0], [9], [1], [0], [6], [0], [0], [0], [0], [0], [7], [0], [3], [5]]\n",
      "None\n"
     ]
    }
   ],
   "source": [
    "def solveSudoku(startArray):\n",
    "    \n",
    "    def pointer(x, y, arr):\n",
    "        return (arr[x][y], x, y)\n",
    "    \n",
    "    def checkRow(value, row, arr):\n",
    "        for y in range(len(arr[x])):\n",
    "            if \n",
    "    \n",
    "    def checkColumn(value, column, arr):\n",
    "        if column in columns:\n",
    "            if value in column:\n",
    "                return False\n",
    "        return True\n",
    "    \n",
    "    def checkSquare(value, square, arr):\n",
    "        if square in squares:\n",
    "            if value in square:\n",
    "                return False\n",
    "        return True\n",
    "    \n",
    "    for x in range(len(startArray)):\n",
    "        for y in range(len(startArray[x])):\n",
    "            value = startArray[x][y]\n",
    "            \n",
    "            box_x = x // 3\n",
    "            box_y = y // 3\n",
    "            box_sum = box_x + box_y\n",
    "            \n",
    "            if value > 0:\n",
    "                continue\n",
    "            \n",
    "            if checkRow(value, x, startArray) + checkColumn(value, y, startArray) + checkSquare(value, box_sum,startArray):\n",
    "                \n",
    "        \n",
    "    \n",
    "startArray = [\n",
    "    [5,3,0,0,7,0,0,0,0],\n",
    "    [6,0,0,1,9,5,0,0,0],\n",
    "    [0,9,8,0,0,0,0,6,0],\n",
    "    [8,0,0,0,6,0,0,0,3],\n",
    "    [4,0,0,8,0,3,0,0,1],\n",
    "    [7,0,0,0,2,0,0,0,6],\n",
    "    [0,6,0,0,0,0,2,8,0],\n",
    "    [0,0,0,4,1,9,0,0,5],\n",
    "    [0,0,0,0,8,0,0,7,9]\n",
    "]\n",
    "\n",
    "print(solveSudoku(startArray))"
   ]
  },
  {
   "cell_type": "code",
   "execution_count": null,
   "id": "708db7da-4462-4a61-a2fd-884cab38b669",
   "metadata": {},
   "outputs": [],
   "source": []
  }
 ],
 "metadata": {
  "kernelspec": {
   "display_name": "Python 3",
   "language": "python",
   "name": "python3"
  },
  "language_info": {
   "codemirror_mode": {
    "name": "ipython",
    "version": 3
   },
   "file_extension": ".py",
   "mimetype": "text/x-python",
   "name": "python",
   "nbconvert_exporter": "python",
   "pygments_lexer": "ipython3",
   "version": "3.7.6"
  }
 },
 "nbformat": 4,
 "nbformat_minor": 5
}
