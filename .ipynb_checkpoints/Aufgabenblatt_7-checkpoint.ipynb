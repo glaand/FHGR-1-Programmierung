{
 "cells": [
  {
   "cell_type": "markdown",
   "id": "616db1d5-3f5f-4f96-8845-d0e4c2644c39",
   "metadata": {},
   "source": [
    "# Aufgabenblatt 7"
   ]
  },
  {
   "cell_type": "markdown",
   "id": "c6b1d45c-7f90-45dd-841f-f87073ee01f8",
   "metadata": {},
   "source": [
    "## Aufgaben 31"
   ]
  },
  {
   "cell_type": "code",
   "execution_count": 1,
   "id": "d75da6c2-725c-4710-b23a-7eb0e6a52a85",
   "metadata": {},
   "outputs": [],
   "source": [
    "def sum_f(n):\n",
    "    res = 0\n",
    "    for i in range(1, n + 1):\n",
    "        res += i\n",
    "    return res"
   ]
  },
  {
   "cell_type": "code",
   "execution_count": 2,
   "id": "36807129-701e-418f-9772-54b5d2155920",
   "metadata": {},
   "outputs": [
    {
     "name": "stdin",
     "output_type": "stream",
     "text": [
      "Bitte geben Sie eine positive Zahl ein:  10\n"
     ]
    },
    {
     "name": "stdout",
     "output_type": "stream",
     "text": [
      "Summe:  55\n"
     ]
    }
   ],
   "source": [
    "try:\n",
    "    n = int(input(\"Bitte geben Sie eine positive Zahl ein: \"))\n",
    "    if n < 1:\n",
    "        raise Exception(\"Die Zahl muss positiv sein\")\n",
    "    print(\"Summe: \", end=\" \")\n",
    "    print(sum_f(n))\n",
    "except:\n",
    "    raise Exception(\"Ungültige Zahl!\")"
   ]
  },
  {
   "cell_type": "markdown",
   "id": "b2157e70-0a3f-4156-b4fe-9b2712675916",
   "metadata": {},
   "source": [
    "## Aufgaben 32"
   ]
  },
  {
   "cell_type": "code",
   "execution_count": 3,
   "id": "11f7332e-b1a4-4f32-98be-d40e9ad1fef1",
   "metadata": {},
   "outputs": [],
   "source": [
    "def fakultaet(n):\n",
    "    if n < 1:\n",
    "        raise Exception(\"Die n-Zahl ist nicht positiv!\")\n",
    "    res = 1\n",
    "    for i in range(1, n + 1):\n",
    "        res *= i\n",
    "    return res"
   ]
  },
  {
   "cell_type": "code",
   "execution_count": 4,
   "id": "de694448-8d45-48b8-955c-7fa6d61e7f40",
   "metadata": {},
   "outputs": [],
   "source": [
    "def stirling(n):\n",
    "    if n < 1:\n",
    "        raise Exception(\"Die n-Zahl ist nicht positiv!\")\n",
    "    from math import sqrt, pi, e\n",
    "    res = sqrt(2*pi*n)*(n/e)**n\n",
    "    return res"
   ]
  },
  {
   "cell_type": "code",
   "execution_count": 5,
   "id": "45d90f4d-88da-44c2-bfef-4b37b0bb870f",
   "metadata": {},
   "outputs": [
    {
     "name": "stdout",
     "output_type": "stream",
     "text": [
      "n = 1 -> diff ~ 7.79%\n",
      "n = 2 -> diff ~ 4.05%\n",
      "n = 3 -> diff ~ 2.73%\n",
      "n = 4 -> diff ~ 2.06%\n",
      "n = 5 -> diff ~ 1.65%\n",
      "n = 6 -> diff ~ 1.38%\n",
      "n = 7 -> diff ~ 1.18%\n",
      "n = 8 -> diff ~ 1.04%\n",
      "n = 9 -> diff ~ 0.92%\n",
      "n = 10 -> diff ~ 0.83%\n",
      "n = 11 -> diff ~ 0.75%\n",
      "n = 12 -> diff ~ 0.69%\n",
      "n = 13 -> diff ~ 0.64%\n",
      "n = 14 -> diff ~ 0.59%\n",
      "n = 15 -> diff ~ 0.55%\n",
      "n = 16 -> diff ~ 0.52%\n",
      "n = 17 -> diff ~ 0.49%\n",
      "n = 18 -> diff ~ 0.46%\n",
      "n = 19 -> diff ~ 0.44%\n",
      "n = 20 -> diff ~ 0.42%\n",
      "n = 21 -> diff ~ 0.40%\n",
      "n = 22 -> diff ~ 0.38%\n",
      "n = 23 -> diff ~ 0.36%\n",
      "n = 24 -> diff ~ 0.35%\n",
      "n = 25 -> diff ~ 0.33%\n",
      "n = 26 -> diff ~ 0.32%\n",
      "n = 27 -> diff ~ 0.31%\n",
      "n = 28 -> diff ~ 0.30%\n",
      "n = 29 -> diff ~ 0.29%\n",
      "n = 30 -> diff ~ 0.28%\n",
      "n = 31 -> diff ~ 0.27%\n",
      "n = 32 -> diff ~ 0.26%\n",
      "n = 33 -> diff ~ 0.25%\n",
      "n = 34 -> diff ~ 0.24%\n",
      "n = 35 -> diff ~ 0.24%\n",
      "n = 36 -> diff ~ 0.23%\n",
      "n = 37 -> diff ~ 0.22%\n",
      "n = 38 -> diff ~ 0.22%\n",
      "n = 39 -> diff ~ 0.21%\n",
      "n = 40 -> diff ~ 0.21%\n",
      "n = 41 -> diff ~ 0.20%\n",
      "n = 42 -> diff ~ 0.20%\n",
      "n = 43 -> diff ~ 0.19%\n",
      "n = 44 -> diff ~ 0.19%\n",
      "n = 45 -> diff ~ 0.19%\n",
      "n = 46 -> diff ~ 0.18%\n",
      "n = 47 -> diff ~ 0.18%\n",
      "n = 48 -> diff ~ 0.17%\n",
      "n = 49 -> diff ~ 0.17%\n",
      "n = 50 -> diff ~ 0.17%\n",
      "n = 51 -> diff ~ 0.16%\n",
      "n = 52 -> diff ~ 0.16%\n",
      "n = 53 -> diff ~ 0.16%\n",
      "n = 54 -> diff ~ 0.15%\n",
      "n = 55 -> diff ~ 0.15%\n",
      "n = 56 -> diff ~ 0.15%\n",
      "n = 57 -> diff ~ 0.15%\n",
      "n = 58 -> diff ~ 0.14%\n",
      "n = 59 -> diff ~ 0.14%\n",
      "n = 60 -> diff ~ 0.14%\n",
      "n = 61 -> diff ~ 0.14%\n",
      "n = 62 -> diff ~ 0.13%\n",
      "n = 63 -> diff ~ 0.13%\n",
      "n = 64 -> diff ~ 0.13%\n",
      "n = 65 -> diff ~ 0.13%\n",
      "n = 66 -> diff ~ 0.13%\n",
      "n = 67 -> diff ~ 0.12%\n",
      "n = 68 -> diff ~ 0.12%\n",
      "n = 69 -> diff ~ 0.12%\n",
      "n = 70 -> diff ~ 0.12%\n",
      "n = 71 -> diff ~ 0.12%\n",
      "n = 72 -> diff ~ 0.12%\n",
      "n = 73 -> diff ~ 0.11%\n",
      "n = 74 -> diff ~ 0.11%\n",
      "n = 75 -> diff ~ 0.11%\n",
      "n = 76 -> diff ~ 0.11%\n",
      "n = 77 -> diff ~ 0.11%\n",
      "n = 78 -> diff ~ 0.11%\n",
      "n = 79 -> diff ~ 0.11%\n",
      "n = 80 -> diff ~ 0.10%\n",
      "n = 81 -> diff ~ 0.10%\n",
      "n = 82 -> diff ~ 0.10%\n",
      "n = 83 -> diff ~ 0.10%\n",
      "n = 84 -> diff ~ 0.10%\n",
      "n = 85 -> diff ~ 0.10%\n",
      "n = 86 -> diff ~ 0.10%\n",
      "n = 87 -> diff ~ 0.10%\n",
      "n = 88 -> diff ~ 0.09%\n",
      "n = 89 -> diff ~ 0.09%\n",
      "n = 90 -> diff ~ 0.09%\n",
      "n = 91 -> diff ~ 0.09%\n",
      "n = 92 -> diff ~ 0.09%\n",
      "n = 93 -> diff ~ 0.09%\n",
      "n = 94 -> diff ~ 0.09%\n",
      "n = 95 -> diff ~ 0.09%\n",
      "n = 96 -> diff ~ 0.09%\n",
      "n = 97 -> diff ~ 0.09%\n",
      "n = 98 -> diff ~ 0.08%\n",
      "n = 99 -> diff ~ 0.08%\n",
      "n = 100 -> diff ~ 0.08%\n"
     ]
    }
   ],
   "source": [
    "diffList = []\n",
    "\n",
    "for n in range(1, 100 + 1):\n",
    "    res1 = fakultaet(n)\n",
    "    res2 = stirling(n)\n",
    "    diff = res1 - res2\n",
    "    diffList.append([n, res1, res2, diff, diff*100/res1])\n",
    "    \n",
    "for entry in diffList:\n",
    "    print(\"n = {0} -> diff ~ {4:.2f}%\".format(*entry))"
   ]
  },
  {
   "cell_type": "markdown",
   "id": "42eb1601-3a1b-478e-9575-7b1afdc12893",
   "metadata": {},
   "source": [
    "**Antwort:** Die Stirling-Formel ist eine mathematische Formel, mit der man für große Fakultäten Näherungswerte berechnen kann. Die berechnete Werte mit der Stirling-Formel werden immer kleiner sein als mit der Fakultätsfunktion. Für grösser werdende n's, wird die relative Differenz zur Fakultätsfunktion immer kleiner bzw. die prozentuale Differenz tendiert gegen 0%.  "
   ]
  },
  {
   "cell_type": "markdown",
   "id": "12c423ec-4f98-4f9a-9efe-8ab0e54ed882",
   "metadata": {},
   "source": [
    "## Aufgabe 33"
   ]
  },
  {
   "cell_type": "code",
   "execution_count": 13,
   "id": "d4ace8b0-207b-47aa-b690-2784c8a78aa1",
   "metadata": {},
   "outputs": [],
   "source": [
    "def getStringInfo(s):\n",
    "    length = len(s)\n",
    "    lower = sum(1 for c in s if c.islower())\n",
    "    upper = sum(1 for c in s if c.isupper())\n",
    "    return length, lower, upper"
   ]
  },
  {
   "cell_type": "code",
   "execution_count": 14,
   "id": "dfd9d777-42ea-42ce-a15b-c699df4c2b88",
   "metadata": {},
   "outputs": [
    {
     "name": "stdout",
     "output_type": "stream",
     "text": [
      "(12, 9, 2)\n"
     ]
    }
   ],
   "source": [
    "print(getStringInfo(\"André Glatzl\"))"
   ]
  },
  {
   "cell_type": "markdown",
   "id": "05c9cd6c-d93e-4101-832f-2e5d1ba3819b",
   "metadata": {},
   "source": [
    "## Aufgabe 34"
   ]
  },
  {
   "cell_type": "code",
   "execution_count": 15,
   "id": "f60f8ea8-a5a9-4a40-9859-48117af3bc28",
   "metadata": {},
   "outputs": [
    {
     "name": "stdout",
     "output_type": "stream",
     "text": [
      "[1, 2, 5, 6, 7, 34, 67, 89, 89, 67, 34, 7, 6, 5, 2, 1]\n",
      "[1.2, 2.5, 5.3, 6.9, 7.8, 34.123, 67.6, 89.4, 89.4, 67.6, 34.123, 7.8, 6.9, 5.3, 2.5, 1.2]\n",
      "['a', 'b', 'c', 'd', 'e', 'f', 'g', 'h', 'i', 'j', 'k', 'k', 'j', 'i', 'h', 'g', 'f', 'e', 'd', 'c', 'b', 'a']\n"
     ]
    }
   ],
   "source": [
    "def merge(dataList):\n",
    "    asc = sorted(dataList)\n",
    "    desc = sorted(dataList, reverse=True)\n",
    "    return asc + desc\n",
    "\n",
    "dataList1 = [1,5,89,2,67,7,6,34]\n",
    "dataList2 = [1.2,5.3,89.4,2.5,67.6,7.8,6.9,34.123]\n",
    "dataList3 = ['e', 'g', 'a', 'f', 'h', 'i', 'd', 'j', 'c', 'k', 'b']\n",
    "\n",
    "print(merge(dataList1))\n",
    "print(merge(dataList2))\n",
    "print(merge(dataList3))"
   ]
  },
  {
   "cell_type": "markdown",
   "id": "f801d24c-0989-4d47-8e51-30c5e72ce8f6",
   "metadata": {},
   "source": [
    "## Aufgabe 35"
   ]
  },
  {
   "cell_type": "code",
   "execution_count": 16,
   "id": "7228e814-c289-431d-8f57-1ee9bd47c0b8",
   "metadata": {},
   "outputs": [],
   "source": [
    "def testPrime(n):\n",
    "    try:\n",
    "        n = int(n)\n",
    "        if n < 1:\n",
    "            raise Exception(\"Die Zahl muss positiv sein\")\n",
    "    except:\n",
    "        raise Exception(\"Ungültige Zahl!\")\n",
    "    isPrime = False\n",
    "    if n > 1:\n",
    "        for i in range(2, int(n/2)+1):\n",
    "            if (n % i) == 0:\n",
    "                break\n",
    "        else:\n",
    "            isPrime = True\n",
    "    return isPrime"
   ]
  },
  {
   "cell_type": "code",
   "execution_count": 17,
   "id": "45d9e9ca-b860-4077-82bd-fce66df2b9c4",
   "metadata": {},
   "outputs": [
    {
     "name": "stdout",
     "output_type": "stream",
     "text": [
      "True\n",
      "False\n",
      "True\n"
     ]
    }
   ],
   "source": [
    "print(testPrime(13))\n",
    "print(testPrime(24))\n",
    "print(testPrime(151))"
   ]
  },
  {
   "cell_type": "code",
   "execution_count": 18,
   "id": "772a12aa-f23c-4247-9639-bd349b7f9163",
   "metadata": {},
   "outputs": [],
   "source": [
    "def primNumbers(m):\n",
    "    try:\n",
    "        m = int(m)\n",
    "        if m < 1:\n",
    "            raise Exception(\"Die Zahl muss positiv sein\")\n",
    "    except:\n",
    "        raise Exception(\"Ungültige Zahl!\")\n",
    "        \n",
    "    primeNumbers = 0\n",
    "        \n",
    "    for n in range(1, m):\n",
    "        if testPrime(n):\n",
    "            primeNumbers += 1\n",
    "            \n",
    "    return primeNumbers"
   ]
  },
  {
   "cell_type": "code",
   "execution_count": 19,
   "id": "b9bdc649-f0ad-4083-afc0-04b1b92dabff",
   "metadata": {},
   "outputs": [
    {
     "name": "stdout",
     "output_type": "stream",
     "text": [
      "Primzahlen kleiner als 10000: 1229\n"
     ]
    }
   ],
   "source": [
    "print(\"Primzahlen kleiner als 10000: %d\" % primNumbers(10000))"
   ]
  }
 ],
 "metadata": {
  "kernelspec": {
   "display_name": "Python 3",
   "language": "python",
   "name": "python3"
  },
  "language_info": {
   "codemirror_mode": {
    "name": "ipython",
    "version": 3
   },
   "file_extension": ".py",
   "mimetype": "text/x-python",
   "name": "python",
   "nbconvert_exporter": "python",
   "pygments_lexer": "ipython3",
   "version": "3.7.6"
  }
 },
 "nbformat": 4,
 "nbformat_minor": 5
}
