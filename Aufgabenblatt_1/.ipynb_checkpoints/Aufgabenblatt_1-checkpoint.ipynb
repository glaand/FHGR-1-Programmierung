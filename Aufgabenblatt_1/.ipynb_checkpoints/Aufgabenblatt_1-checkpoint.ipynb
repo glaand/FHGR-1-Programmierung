{
 "cells": [
  {
   "cell_type": "markdown",
   "id": "07f4ea33-1a65-4f54-9de7-9f547dd68872",
   "metadata": {},
   "source": [
    "# Aufgabe 1"
   ]
  },
  {
   "cell_type": "code",
   "execution_count": 19,
   "id": "7702955b-4144-4b5c-93d0-a473bf77f32b",
   "metadata": {
    "tags": []
   },
   "outputs": [
    {
     "name": "stdout",
     "output_type": "stream",
     "text": [
      "75\n",
      "330\n"
     ]
    },
    {
     "ename": "ZeroDivisionError",
     "evalue": "division by zero",
     "output_type": "error",
     "traceback": [
      "\u001b[0;31m---------------------------------------------------------------------------\u001b[0m",
      "\u001b[0;31mZeroDivisionError\u001b[0m                         Traceback (most recent call last)",
      "\u001b[0;32m/tmp/ipykernel_80437/1759600109.py\u001b[0m in \u001b[0;36m<module>\u001b[0;34m\u001b[0m\n\u001b[1;32m      4\u001b[0m \u001b[0mprint\u001b[0m\u001b[0;34m(\u001b[0m\u001b[0;36m10\u001b[0m\u001b[0;34m*\u001b[0m\u001b[0;34m(\u001b[0m\u001b[0;36m6\u001b[0m\u001b[0;34m+\u001b[0m\u001b[0;36m5\u001b[0m\u001b[0;34m)\u001b[0m\u001b[0;34m*\u001b[0m\u001b[0;36m3\u001b[0m\u001b[0;34m)\u001b[0m\u001b[0;34m\u001b[0m\u001b[0;34m\u001b[0m\u001b[0m\n\u001b[1;32m      5\u001b[0m \u001b[0;31m# (c)\u001b[0m\u001b[0;34m\u001b[0m\u001b[0;34m\u001b[0m\u001b[0;34m\u001b[0m\u001b[0m\n\u001b[0;32m----> 6\u001b[0;31m \u001b[0mprint\u001b[0m\u001b[0;34m(\u001b[0m\u001b[0;36m17\u001b[0m\u001b[0;34m/\u001b[0m\u001b[0;36m0\u001b[0m\u001b[0;34m)\u001b[0m\u001b[0;34m\u001b[0m\u001b[0;34m\u001b[0m\u001b[0m\n\u001b[0m",
      "\u001b[0;31mZeroDivisionError\u001b[0m: division by zero"
     ]
    }
   ],
   "source": [
    "# (a)\n",
    "print(10*6+5*3)\n",
    "# (b)\n",
    "print(10*(6+5)*3)\n",
    "# (c)\n",
    "print(17/0)"
   ]
  },
  {
   "cell_type": "code",
   "execution_count": 20,
   "id": "fe54f751-5303-4165-a92d-01034a3810ef",
   "metadata": {},
   "outputs": [
    {
     "name": "stdout",
     "output_type": "stream",
     "text": [
      "5\n"
     ]
    }
   ],
   "source": [
    "# (d)\n",
    "print(45%8)"
   ]
  },
  {
   "cell_type": "markdown",
   "id": "ae197084-31cc-4289-96eb-10820b95cfbf",
   "metadata": {},
   "source": [
    "# Aufgabe 2"
   ]
  },
  {
   "cell_type": "code",
   "execution_count": 21,
   "id": "58c1a660-d2c4-4a00-b306-54ea7baaee3a",
   "metadata": {},
   "outputs": [
    {
     "name": "stdout",
     "output_type": "stream",
     "text": [
      "True\n",
      "True\n",
      "True\n",
      "True\n"
     ]
    }
   ],
   "source": [
    "# (a)\n",
    "print( 20 == 4*5 )\n",
    "# (b)\n",
    "print( 19 == (4 + 7) * 3 - 14 )\n",
    "# (c)\n",
    "print( (5 > 4) and ((3 * 2) > 5) )\n",
    "# (d)\n",
    "print( (True) and ((False) or (1 != 0)) )"
   ]
  },
  {
   "cell_type": "markdown",
   "id": "c938fd06-c73f-479a-86e6-d57097e7116f",
   "metadata": {},
   "source": [
    "# Aufgabe 3"
   ]
  },
  {
   "cell_type": "code",
   "execution_count": 22,
   "id": "d9fbe7c8-c0f2-4ef8-9f7d-37a9d3c8655d",
   "metadata": {},
   "outputs": [
    {
     "name": "stdout",
     "output_type": "stream",
     "text": [
      "6.0\n"
     ]
    }
   ],
   "source": [
    "# (a)\n",
    "length = 15\n",
    "# (b)\n",
    "width = 10\n",
    "# (c)\n",
    "area = length * width\n",
    "# (d)\n",
    "print( area / (length + width) )"
   ]
  },
  {
   "cell_type": "markdown",
   "id": "c363f0c9-2c05-441c-959f-73b34ada0d72",
   "metadata": {},
   "source": [
    "# Aufgabe 4"
   ]
  },
  {
   "cell_type": "code",
   "execution_count": 23,
   "id": "41280e0c-6b1f-4bd4-80ec-0c23557e9f09",
   "metadata": {},
   "outputs": [],
   "source": [
    "# (a)\n",
    "x = 5\n",
    "x += 2\n",
    "# x wird den Wert 7 haben, weil x += 2 ersetzt x = x + 2"
   ]
  },
  {
   "cell_type": "code",
   "execution_count": 24,
   "id": "0393a00b-6b4a-4123-b6bb-7967810018c2",
   "metadata": {},
   "outputs": [
    {
     "ename": "SyntaxError",
     "evalue": "invalid syntax (2072523981.py, line 2)",
     "output_type": "error",
     "traceback": [
      "\u001b[0;36m  File \u001b[0;32m\"/tmp/ipykernel_80437/2072523981.py\"\u001b[0;36m, line \u001b[0;32m2\u001b[0m\n\u001b[0;31m    6pack = 100\u001b[0m\n\u001b[0m     ^\u001b[0m\n\u001b[0;31mSyntaxError\u001b[0m\u001b[0;31m:\u001b[0m invalid syntax\n"
     ]
    }
   ],
   "source": [
    "# (b)\n",
    "6pack = 100\n",
    "# Fehler weil Variabel darf nicht mit einer Zahl beginnen"
   ]
  },
  {
   "cell_type": "code",
   "execution_count": 25,
   "id": "ff601666-edcb-447c-bddb-14735c39f780",
   "metadata": {},
   "outputs": [],
   "source": [
    "# (c)\n",
    "Y = 3\n",
    "Y **= 7\n",
    "# Y wird den Wert 2187 haben, weil Y **= 7 ersetzt  Y = Y ** 7 und (**) entspricht der Exponentiation"
   ]
  },
  {
   "cell_type": "code",
   "execution_count": 26,
   "id": "e7a26fc2-b554-4c48-9c38-0508e92f02c1",
   "metadata": {},
   "outputs": [
    {
     "name": "stdout",
     "output_type": "stream",
     "text": [
      "Dies ist ein\n",
      "\n",
      "Python Kurs\n"
     ]
    }
   ],
   "source": [
    "# (d)\n",
    "print(\"Dies ist ein\\n\\nPython Kurs\")\n",
    "# Bei diesem Print Befehl werden zwei Zeilenumbrüche hintereinander eingefügt. Die Zeilenumbrüche werden nach dem Wort \"ein\" eingefügt. "
   ]
  },
  {
   "cell_type": "markdown",
   "id": "dc429315-a476-4356-abe2-57ef46a1a790",
   "metadata": {},
   "source": [
    "# Aufgabe 5"
   ]
  },
  {
   "cell_type": "markdown",
   "id": "b31cc047-1b88-45ab-89e1-bfe5c79bedea",
   "metadata": {},
   "source": [
    "Bei der 3er Potenz erkennt man einen wiederkehrendes Muster. Bei der Kondition ![sequence_formula_andre_glatzl](https://i.imgur.com/dbyGtcF.png), erkennt man bei der Sequenz (x * 4),\n",
    "dass die Werte immer mit einer 1 beenden. Somit loopen wir erstmals in 4er Schritten.\n",
    "Mit dem Modulo 100, kriegt man die letzten zwei Zahlen"
   ]
  },
  {
   "cell_type": "code",
   "execution_count": 27,
   "id": "109eaed2-18d8-44b2-ac15-ae5473acf735",
   "metadata": {},
   "outputs": [
    {
     "name": "stdout",
     "output_type": "stream",
     "text": [
      "Iterationsschritten: 4\n",
      "Kleinste 3er-Potenz, welches Resultat 21 als letzte zwei Zahlen hat: 16\n"
     ]
    }
   ],
   "source": [
    "x = 1\n",
    "while True:\n",
    "    if (3 ** (x*4)) % 100 == 21:\n",
    "        break\n",
    "    x += 1\n",
    "print(\"Iterationsschritten: {}\".format(x))\n",
    "print(\"Kleinste 3er-Potenz, welches Resultat 21 als letzte zwei Zahlen hat: {}\".format((x*4)))"
   ]
  }
 ],
 "metadata": {
  "kernelspec": {
   "display_name": "Python 3 (ipykernel)",
   "language": "python",
   "name": "python3"
  },
  "language_info": {
   "codemirror_mode": {
    "name": "ipython",
    "version": 3
   },
   "file_extension": ".py",
   "mimetype": "text/x-python",
   "name": "python",
   "nbconvert_exporter": "python",
   "pygments_lexer": "ipython3",
   "version": "3.8.10"
  }
 },
 "nbformat": 4,
 "nbformat_minor": 5
}
