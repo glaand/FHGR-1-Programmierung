{
 "cells": [
  {
   "cell_type": "markdown",
   "id": "992377cf-7552-4546-8d00-e373e9a62514",
   "metadata": {},
   "source": [
    "# Aufgabenblatt 3"
   ]
  },
  {
   "cell_type": "markdown",
   "id": "2cabdfe8-4ad0-4679-9610-6ebae9b1b94b",
   "metadata": {},
   "source": [
    "## Aufgabe 11"
   ]
  },
  {
   "cell_type": "code",
   "execution_count": 96,
   "id": "56233ba1-f78e-4de3-bf6d-4301d6090db6",
   "metadata": {},
   "outputs": [
    {
     "name": "stdin",
     "output_type": "stream",
     "text": [
      "1. Fliesskommazahl:  1.2\n",
      "2. Fliesskommazahl:  2.1\n"
     ]
    },
    {
     "name": "stdout",
     "output_type": "stream",
     "text": [
      "Minimum: 1.2\n",
      "Maximum: 2.1\n"
     ]
    }
   ],
   "source": [
    "firstNumber = 0.0\n",
    "secondNumber = 0.0\n",
    "minimum = 0.0\n",
    "maximum = 0.0\n",
    "try:\n",
    "    firstNumber = float(input(\"1. Fliesskommazahl: \"))\n",
    "    secondNumber = float(input(\"2. Fliesskommazahl: \"))\n",
    "except:\n",
    "    raise Exception(\"Fehler beim Lesen der Fliesskommazahlen\")\n",
    "    exit\n",
    "\n",
    "if firstNumber > secondNumber:\n",
    "    minimum = secondNumber\n",
    "    maximum = firstNumber\n",
    "elif firstNumber < secondNumber:\n",
    "    minimum = firstNumber\n",
    "    maximum = secondNumber\n",
    "else:\n",
    "    maximum = firstNumber\n",
    "    minimum = maximum\n",
    "    print(\"Beide Zahlen sind gleich!\")\n",
    "    \n",
    "print(\"Minimum: \" + str(minimum))\n",
    "print(\"Maximum: \" + str(maximum))"
   ]
  },
  {
   "cell_type": "markdown",
   "id": "b8851d90-a70c-4442-a2ac-4c1ef4d35b03",
   "metadata": {},
   "source": [
    "## Aufgabe 12"
   ]
  },
  {
   "cell_type": "code",
   "execution_count": 97,
   "id": "ca531431-6540-4168-bf09-d2d660ffeab3",
   "metadata": {},
   "outputs": [
    {
     "name": "stdin",
     "output_type": "stream",
     "text": [
      "Zahl:  13\n"
     ]
    },
    {
     "name": "stdout",
     "output_type": "stream",
     "text": [
      "Verloren\n"
     ]
    }
   ],
   "source": [
    "try:\n",
    "    inserted = int(input(\"Zahl: \"))\n",
    "except:\n",
    "    raise Exception(\"Die Zahli st nicht gültig.\")\n",
    "\n",
    "import random\n",
    "randNum = random.randint(0, 100)\n",
    "\n",
    "if randNum == inserted:\n",
    "    print(\"Gewonnen\")\n",
    "else:\n",
    "    print(\"Verloren\")"
   ]
  },
  {
   "cell_type": "markdown",
   "id": "33ec84b3-3214-442e-bccd-580c737a1a2f",
   "metadata": {},
   "source": [
    "## Aufgabe 13"
   ]
  },
  {
   "cell_type": "code",
   "execution_count": 98,
   "id": "abbeb404-ef97-4588-90fb-1524481174f4",
   "metadata": {},
   "outputs": [],
   "source": [
    "import random\n",
    "dice = []\n",
    "\n",
    "def rollDice():\n",
    "    global dice\n",
    "    dice = []\n",
    "    for die in range(5):\n",
    "        dice.append(random.randint(1, 6))\n",
    "        \n",
    "def fakeAllSameSide():\n",
    "    global dice\n",
    "    dice = []\n",
    "    side = random.randint(1, 6)\n",
    "    for die in range(5):\n",
    "        dice.append(side)\n",
    "        \n",
    "def showStats():\n",
    "    global dice\n",
    "    print(\"Würfel: \" + str(dice))\n",
    "    print(\"\")\n",
    "    \n",
    "    # (a)\n",
    "    if len(set(dice)) <= 1:\n",
    "        print(\"Alle 5 Werte sind gleich!\")\n",
    "        \n",
    "    # (b)\n",
    "    if len(set(dice)) == len(dice):\n",
    "        print(\"Alle 5 Werte sind unterschiedlich!\")\n",
    "        \n",
    "    # (c)\n",
    "    sumResult = sum(dice)\n",
    "    if sumResult > 20 and sumResult < 25:\n",
    "        print(\"Die Summe der 5 Werte ist grösser als 20 und kleiner als 25!\")"
   ]
  },
  {
   "cell_type": "code",
   "execution_count": 103,
   "id": "3a6e35a1-bc7e-4b0e-8036-3876b2ec0613",
   "metadata": {},
   "outputs": [
    {
     "name": "stdout",
     "output_type": "stream",
     "text": [
      "Würfel: [2, 3, 1, 6, 5]\n",
      "\n",
      "Alle 5 Werte sind unterschiedlich!\n"
     ]
    }
   ],
   "source": [
    "rollDice()\n",
    "showStats()"
   ]
  },
  {
   "cell_type": "code",
   "execution_count": 100,
   "id": "6a7dcbc1-a084-4892-9f37-042c18e0f150",
   "metadata": {},
   "outputs": [
    {
     "name": "stdout",
     "output_type": "stream",
     "text": [
      "Würfel: [6, 6, 6, 6, 6]\n",
      "\n",
      "Alle 5 Werte sind gleich!\n"
     ]
    }
   ],
   "source": [
    "# Only for debugging (a)\n",
    "fakeAllSameSide()\n",
    "showStats()"
   ]
  },
  {
   "cell_type": "markdown",
   "id": "af89d71a-1455-45f0-8a9a-b5a6ea415e94",
   "metadata": {},
   "source": [
    "## Aufgabe 14"
   ]
  },
  {
   "cell_type": "markdown",
   "id": "4be1de5a-3e77-45a7-b94c-ff666b694263",
   "metadata": {},
   "source": [
    "(a) -> True and False gibt False, False and True gibt False und False or False gibt False. Also False am Schluss"
   ]
  },
  {
   "cell_type": "markdown",
   "id": "b11dfec5-2ead-4ef7-9331-e4559610cfa7",
   "metadata": {},
   "source": [
    "(b) -> (3 < 3.0) gibt False. True or False gibt True. not(True) gibt False. not(False) gibt True. False or True gibt True. Also True am Schluss"
   ]
  },
  {
   "cell_type": "markdown",
   "id": "4c350484-747f-461a-badb-eb57e4e0b620",
   "metadata": {},
   "source": [
    "(c) -> 3 ist anders als 4 also True, 4 ist anders als 5 also True, 5 ist anders als 6 also True, 6 ist anders als 3 also True. Alle Selektionen werden dann mit dem Vergleichsoperator AND verglichen. Da alle True sind, wird der Endwert auch True sein."
   ]
  },
  {
   "cell_type": "markdown",
   "id": "a207fad9-e4b2-4388-8014-1c1510a71b61",
   "metadata": {},
   "source": [
    "(d) -> Wie in der Mathematik, gielt hier Punkt vor Strich. Zuerst werden die Potenzen berechnet, dann wird es addiert und am Schluss wird der linke Term mit dem rechte Term vergliechen. Diese Kondition simuliert den Satz von Pythagoras."
   ]
  },
  {
   "cell_type": "markdown",
   "id": "d6d7f174-9def-4c5d-8518-704fc70275d3",
   "metadata": {},
   "source": [
    "## Aufgabe 15"
   ]
  },
  {
   "cell_type": "code",
   "execution_count": 104,
   "id": "3c9adc7d-ae8c-4c53-b5ef-b33347d246da",
   "metadata": {},
   "outputs": [
    {
     "name": "stdin",
     "output_type": "stream",
     "text": [
      "Zahl:  11\n"
     ]
    },
    {
     "name": "stdout",
     "output_type": "stream",
     "text": [
      "Die eingegebene Zahl ist eine Primzahl!\n"
     ]
    }
   ],
   "source": [
    "try:\n",
    "    inserted = int(input(\"Zahl: \"))\n",
    "except:\n",
    "    raise Exception(\"Ungültige Zahl!\")\n",
    "    \n",
    "if inserted <= 7 or inserted > 100:\n",
    "    raise Exception(\"Die Zahl muss zwischen den folgenden Intervall sein: 7 < x <= 100\")\n",
    "    \n",
    "dividers = [2,3,5,7]\n",
    "for divider in dividers:\n",
    "    if inserted % divider == 0:\n",
    "        raise Exception(\"Die eingegebene Zahl ist keine Primzahl!\")\n",
    "        \n",
    "print(\"Die eingegebene Zahl ist eine Primzahl!\")"
   ]
  },
  {
   "cell_type": "code",
   "execution_count": null,
   "id": "39818131-43fb-4439-b098-e60d93e3d8ec",
   "metadata": {},
   "outputs": [],
   "source": []
  }
 ],
 "metadata": {
  "kernelspec": {
   "display_name": "Python 3 (ipykernel)",
   "language": "python",
   "name": "python3"
  },
  "language_info": {
   "codemirror_mode": {
    "name": "ipython",
    "version": 3
   },
   "file_extension": ".py",
   "mimetype": "text/x-python",
   "name": "python",
   "nbconvert_exporter": "python",
   "pygments_lexer": "ipython3",
   "version": "3.8.10"
  }
 },
 "nbformat": 4,
 "nbformat_minor": 5
}
